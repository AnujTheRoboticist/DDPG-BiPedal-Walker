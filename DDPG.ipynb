{
  "cells": [
    {
      "cell_type": "markdown",
      "metadata": {
        "id": "1MOVZQ-1qZ4b"
      },
      "source": [
        "# Deep Deterministic Policy Gradients (DDPG)\n",
        "---\n",
        "In this notebook, we train DDPG with OpenAI Gym's BipedalWalker-v3 environment.\n",
        "\n",
        "### 1. Import the Necessary Packages"
      ]
    },
    {
      "cell_type": "code",
      "execution_count": null,
      "metadata": {
        "colab": {
          "base_uri": "https://localhost:8080/"
        },
        "id": "WdMU2vbDqZ4f",
        "outputId": "06020901-56ce-4097-d525-46580f9b828a"
      },
      "outputs": [
        {
          "output_type": "stream",
          "name": "stdout",
          "text": [
            "Looking in indexes: https://pypi.org/simple, https://us-python.pkg.dev/colab-wheels/public/simple/\n",
            "Requirement already satisfied: gym[Box_2D] in /usr/local/lib/python3.8/dist-packages (0.25.2)\n",
            "\u001b[33mWARNING: gym 0.25.2 does not provide the extra 'box_2d'\u001b[0m\n",
            "Requirement already satisfied: importlib-metadata>=4.8.0 in /usr/local/lib/python3.8/dist-packages (from gym[Box_2D]) (4.13.0)\n",
            "Requirement already satisfied: numpy>=1.18.0 in /usr/local/lib/python3.8/dist-packages (from gym[Box_2D]) (1.21.6)\n",
            "Requirement already satisfied: gym-notices>=0.0.4 in /usr/local/lib/python3.8/dist-packages (from gym[Box_2D]) (0.0.8)\n",
            "Requirement already satisfied: cloudpickle>=1.2.0 in /usr/local/lib/python3.8/dist-packages (from gym[Box_2D]) (1.5.0)\n",
            "Requirement already satisfied: zipp>=0.5 in /usr/local/lib/python3.8/dist-packages (from importlib-metadata>=4.8.0->gym[Box_2D]) (3.10.0)\n"
          ]
        }
      ],
      "source": [
        "import gym\n",
        "import random\n",
        "import torch\n",
        "import numpy as np\n",
        "from collections import deque\n",
        "import matplotlib.pyplot as plt\n",
        "%matplotlib inline\n",
        "!apt-get install python-box2d > /dev/null\n",
        "!pip install gym[Box_2D]\n",
        "from ddpg_agent import Agent"
      ]
    },
    {
      "cell_type": "markdown",
      "metadata": {
        "id": "ojdNMqjqqZ4g"
      },
      "source": [
        "### 2. Instantiate the Environment and Agent"
      ]
    },
    {
      "cell_type": "code",
      "execution_count": null,
      "metadata": {
        "colab": {
          "base_uri": "https://localhost:8080/"
        },
        "id": "YtAINwl9qZ4h",
        "outputId": "773895d6-53b8-40f2-bdc7-8c9c612feba6"
      },
      "outputs": [
        {
          "output_type": "stream",
          "name": "stderr",
          "text": [
            "/usr/local/lib/python3.8/dist-packages/gym/core.py:317: DeprecationWarning: \u001b[33mWARN: Initializing wrapper in old step API which returns one bool instead of two. It is recommended to set `new_step_api=True` to use new step API. This will be the default behaviour in future.\u001b[0m\n",
            "  deprecation(\n",
            "/usr/local/lib/python3.8/dist-packages/gym/wrappers/step_api_compatibility.py:39: DeprecationWarning: \u001b[33mWARN: Initializing environment in old step API which returns one bool instead of two. It is recommended to set `new_step_api=True` to use new step API. This will be the default behaviour in future.\u001b[0m\n",
            "  deprecation(\n"
          ]
        }
      ],
      "source": [
        "env = gym.make('BipedalWalker-v3')\n",
        "env.reset(seed=10)\n",
        "agent = Agent(state_size=env.observation_space.shape[0], action_size=env.action_space.shape[0], random_seed=10)"
      ]
    },
    {
      "cell_type": "markdown",
      "metadata": {
        "id": "n_OtzVveqZ4i"
      },
      "source": [
        "### 3. Train the Agent with DDPG\n"
      ]
    },
    {
      "cell_type": "code",
      "execution_count": null,
      "metadata": {
        "colab": {
          "base_uri": "https://localhost:8080/"
        },
        "id": "8vJj2DupqZ4i",
        "outputId": "655da77e-3625-410c-82f9-908cf5a2219e"
      },
      "outputs": [
        {
          "metadata": {
            "tags": null
          },
          "name": "stderr",
          "output_type": "stream",
          "text": [
            "/usr/local/lib/python3.8/dist-packages/torch/nn/functional.py:1949: UserWarning: nn.functional.tanh is deprecated. Use torch.tanh instead.\n",
            "  warnings.warn(\"nn.functional.tanh is deprecated. Use torch.tanh instead.\")\n"
          ]
        },
        {
          "output_type": "stream",
          "name": "stdout",
          "text": [
            "Episode 100\tAverage Score: -107.34\n",
            "Episode 200\tAverage Score: -99.57\n",
            "Episode 300\tAverage Score: -99.66\n",
            "Episode 400\tAverage Score: -99.30\n",
            "Episode 500\tAverage Score: -67.16\n"
          ]
        }
      ],
      "source": [
        "def ddpg(n_episodes=2000, max_t=700):\n",
        "    scores_deque = deque(maxlen=100)\n",
        "    scores = []\n",
        "    max_score = -np.Inf\n",
        "    for i_episode in range(1, n_episodes+1):\n",
        "        state = env.reset()\n",
        "        agent.reset()\n",
        "        score = 0\n",
        "        for t in range(max_t):\n",
        "            action = agent.act(state)\n",
        "            next_state, reward, done, _ = env.step(action)\n",
        "            agent.step(state, action, reward, next_state, done)\n",
        "            state = next_state\n",
        "            score += reward\n",
        "            if done:\n",
        "                break \n",
        "        scores_deque.append(score)\n",
        "        scores.append(score)\n",
        "        print('\\rEpisode {}\\tAverage Score: {:.2f}\\tScore: {:.2f}'.format(i_episode, np.mean(scores_deque), score), end=\"\")\n",
        "        if i_episode % 100 == 0:\n",
        "            torch.save(agent.actor_local.state_dict(), 'checkpoint_actor.pth')\n",
        "            torch.save(agent.critic_local.state_dict(), 'checkpoint_critic.pth')\n",
        "            print('\\rEpisode {}\\tAverage Score: {:.2f}'.format(i_episode, np.mean(scores_deque)))   \n",
        "    return scores\n",
        "\n",
        "scores = ddpg()\n",
        "\n",
        "fig = plt.figure()\n",
        "ax = fig.add_subplot(111)\n",
        "plt.plot(np.arange(1, len(scores)+1), scores)\n",
        "plt.ylabel('Score')\n",
        "plt.xlabel('Episode #')\n",
        "plt.show()"
      ]
    },
    {
      "cell_type": "markdown",
      "metadata": {
        "id": "FkiVasIBqZ4j"
      },
      "source": [
        "### 4.Smart Agent!\n",
        "\n"
      ]
    },
    {
      "cell_type": "code",
      "execution_count": null,
      "metadata": {
        "id": "U5qDBUS3qZ4j"
      },
      "outputs": [],
      "source": [
        "agent.actor_local.load_state_dict(torch.load('checkpoint_actor.pth'))\n",
        "agent.critic_local.load_state_dict(torch.load('checkpoint_critic.pth'))\n",
        "\n",
        "state = env.reset()\n",
        "agent.reset()   \n",
        "while True:\n",
        "    action = agent.act(state)\n",
        "    env.render()\n",
        "    next_state, reward, done, _ = env.step(action)\n",
        "    state = next_state\n",
        "    if done:\n",
        "        break\n",
        "        \n",
        "env.close()"
      ]
    }
  ],
  "metadata": {
    "kernelspec": {
      "display_name": "Python 3",
      "language": "python",
      "name": "python3"
    },
    "language_info": {
      "codemirror_mode": {
        "name": "ipython",
        "version": 3
      },
      "file_extension": ".py",
      "mimetype": "text/x-python",
      "name": "python",
      "nbconvert_exporter": "python",
      "pygments_lexer": "ipython3",
      "version": "3.6.4"
    },
    "colab": {
      "provenance": []
    }
  },
  "nbformat": 4,
  "nbformat_minor": 0
}